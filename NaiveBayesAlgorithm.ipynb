{
  "nbformat": 4,
  "nbformat_minor": 0,
  "metadata": {
    "colab": {
      "provenance": [],
      "include_colab_link": true
    },
    "kernelspec": {
      "name": "python3",
      "display_name": "Python 3"
    },
    "language_info": {
      "name": "python"
    }
  },
  "cells": [
    {
      "cell_type": "markdown",
      "metadata": {
        "id": "view-in-github",
        "colab_type": "text"
      },
      "source": [
        "<a href=\"https://colab.research.google.com/github/SerraTalas/MachineLearningProjects/blob/main/NaiveBayesAlgorithm.ipynb\" target=\"_parent\"><img src=\"https://colab.research.google.com/assets/colab-badge.svg\" alt=\"Open In Colab\"/></a>"
      ]
    },
    {
      "cell_type": "code",
      "execution_count": null,
      "metadata": {
        "id": "Y3urQC9iYQfO"
      },
      "outputs": [],
      "source": [
        "import pandas as pd\n",
        "import numpy as np\n",
        "import matplotlib.pyplot as plt\n",
        "import math\n",
        "\n",
        "from sklearn.preprocessing import StandardScaler\n",
        "from sklearn.model_selection import train_test_split\n",
        "from sklearn.metrics import confusion_matrix"
      ]
    },
    {
      "cell_type": "code",
      "source": [
        "from google.colab import drive\n",
        "drive.mount('/content/drive')"
      ],
      "metadata": {
        "colab": {
          "base_uri": "https://localhost:8080/"
        },
        "id": "YMwW8DuIHmx7",
        "outputId": "2c60b50f-042a-4100-e32d-4e486c1046c8"
      },
      "execution_count": null,
      "outputs": [
        {
          "output_type": "stream",
          "name": "stdout",
          "text": [
            "Mounted at /content/drive\n"
          ]
        }
      ]
    },
    {
      "cell_type": "code",
      "source": [
        "df = pd.read_csv('/content/drive/MyDrive/verikumesi2.csv')"
      ],
      "metadata": {
        "id": "Q36pbdi-D_AM"
      },
      "execution_count": null,
      "outputs": []
    },
    {
      "cell_type": "code",
      "source": [
        "x= df.iloc[:, [1,30]].values\n",
        "y= df.iloc[:, 30].values"
      ],
      "metadata": {
        "id": "GiJOTogEKCpW"
      },
      "execution_count": null,
      "outputs": []
    },
    {
      "cell_type": "code",
      "source": [
        "from sklearn.model_selection import train_test_split\n",
        "x_train, x_test, y_train, y_test= train_test_split(x, y, test_size= 0.20, random_state=0)"
      ],
      "metadata": {
        "id": "XsxN40--LP7_"
      },
      "execution_count": null,
      "outputs": []
    },
    {
      "cell_type": "code",
      "source": [
        "# Etiket oranını hesapla\n",
        "class_ratio = df['Class'].value_counts(normalize=True)\n",
        "\n",
        "# Eğitim ve test veri setlerini oluştur\n",
        "X_train, X_test, y_train, y_test = train_test_split(df.drop('Class', axis=1), df['Class'], test_size=0.2, stratify=df['Class'], random_state=42)\n",
        "\n",
        "# Eğitim ve test setlerindeki etiket oranlarını kontrol et\n",
        "train_class_ratio = y_train.value_counts(normalize=True)\n",
        "test_class_ratio = y_test.value_counts(normalize=True)\n",
        "\n",
        "print(\"Eğitim seti etiket oranı:\")\n",
        "print(train_class_ratio)\n",
        "\n",
        "print(\"\\nTest seti etiket oranı:\")\n",
        "print(test_class_ratio)"
      ],
      "metadata": {
        "colab": {
          "base_uri": "https://localhost:8080/"
        },
        "id": "vQagcpYWMer4",
        "outputId": "b02d3a92-e1c8-49ee-b9ae-bc0514b7a02d"
      },
      "execution_count": null,
      "outputs": [
        {
          "output_type": "stream",
          "name": "stdout",
          "text": [
            "Eğitim seti etiket oranı:\n",
            "Class\n",
            "0    0.913847\n",
            "1    0.086153\n",
            "Name: proportion, dtype: float64\n",
            "\n",
            "Test seti etiket oranı:\n",
            "Class\n",
            "0    0.913701\n",
            "1    0.086299\n",
            "Name: proportion, dtype: float64\n"
          ]
        }
      ]
    },
    {
      "cell_type": "code",
      "source": [
        "total_train_samples = len(y_train)\n",
        "total_test_samples = len(y_test)\n",
        "\n",
        "train_0_count = (y_train == 0).sum()\n",
        "train_1_count = (y_train == 1).sum()\n",
        "\n",
        "test_0_count = (y_test == 0).sum()\n",
        "test_1_count = (y_test == 1).sum()\n",
        "\n",
        "train_0_percent = (train_0_count / total_train_samples) * 100\n",
        "train_1_percent = (train_1_count / total_train_samples) * 100\n",
        "\n",
        "test_0_percent = (test_0_count / total_test_samples) * 100\n",
        "test_1_percent = (test_1_count / total_test_samples) * 100\n",
        "\n",
        "print(\"Eğitim setindeki 0 etiketli veri sayısı:\", train_0_count, \" ve yüzdesi:\", train_0_percent)\n",
        "print(\"Eğitim setindeki 1 etiketli veri sayısı:\", train_1_count, \" ve yüzdesi:\", train_1_percent)\n",
        "print(\"Test setindeki 0 etiketli veri sayısı:\", test_0_count, \" ve yüzdesi:\", test_0_percent)\n",
        "print(\"Test setindeki 1 etiketli veri sayısı:\", test_1_count, \" ve yüzdesi:\", test_1_percent)"
      ],
      "metadata": {
        "colab": {
          "base_uri": "https://localhost:8080/"
        },
        "id": "nFdLvRgYNS8D",
        "outputId": "f015c758-c286-4b67-b17e-2f16c9352c6f"
      },
      "execution_count": null,
      "outputs": [
        {
          "output_type": "stream",
          "name": "stdout",
          "text": [
            "Eğitim setindeki 0 etiketli veri sayısı: 4105  ve yüzdesi: 91.38468388245771\n",
            "Eğitim setindeki 1 etiketli veri sayısı: 387  ve yüzdesi: 8.615316117542298\n",
            "Test setindeki 0 etiketli veri sayısı: 1027  ve yüzdesi: 91.37010676156584\n",
            "Test setindeki 1 etiketli veri sayısı: 97  ve yüzdesi: 8.629893238434164\n"
          ]
        }
      ]
    },
    {
      "cell_type": "code",
      "source": [
        "#feature Scaling\n",
        "from sklearn.preprocessing import StandardScaler\n",
        "st_x= StandardScaler()\n",
        "X_train= st_x.fit_transform(X_train)\n",
        "X_test= st_x.transform(X_test)"
      ],
      "metadata": {
        "id": "hgTRk-PLPTI-"
      },
      "execution_count": null,
      "outputs": []
    },
    {
      "cell_type": "code",
      "source": [
        "from sklearn.naive_bayes import GaussianNB\n",
        "from sklearn.model_selection import cross_val_score\n",
        "from sklearn.metrics import accuracy_score, precision_score, recall_score, f1_score\n",
        "\n",
        "# Naive Bayes sınıflandırıcısını oluştur\n",
        "model = GaussianNB()\n",
        "\n",
        "# Modeli eğit\n",
        "model.fit(X_train, y_train)\n",
        "\n",
        "# Eğitilmiş modeli kullanarak test seti üzerinde tahmin yap\n",
        "y_pred = model.predict(X_test)\n",
        "from sklearn.naive_bayes import GaussianNB\n",
        "\n",
        "# Naive Bayes sınıflandırıcısını oluştur\n",
        "model = GaussianNB()\n",
        "\n",
        "# Modeli eğit\n",
        "model.fit(X_train, y_train)\n",
        "\n",
        "# Eğitilmiş modeli kullanarak test seti üzerinde tahmin yap\n",
        "y_pred = model.predict(X_test)\n",
        "\n",
        "\n",
        "# Performans metriklerini hesapla\n",
        "accuracy = accuracy_score(y_test, y_pred)\n",
        "precision = precision_score(y_test, y_pred)\n",
        "recall = recall_score(y_test, y_pred)\n",
        "f1 = f1_score(y_test, y_pred)\n",
        "\n",
        "# Sonuçları raporla\n",
        "print(\"Accuracy:\", accuracy)\n",
        "print(\"Precision:\", precision)\n",
        "print(\"Recall:\", recall)\n",
        "print(\"F1 Score:\", f1)"
      ],
      "metadata": {
        "colab": {
          "base_uri": "https://localhost:8080/"
        },
        "id": "ttm_vIc-PuY1",
        "outputId": "a39c361d-27e2-487e-d1e5-8789b52a144a"
      },
      "execution_count": null,
      "outputs": [
        {
          "output_type": "stream",
          "name": "stdout",
          "text": [
            "Accuracy: 0.9572953736654805\n",
            "Precision: 0.7058823529411765\n",
            "Recall: 0.865979381443299\n",
            "F1 Score: 0.7777777777777778\n"
          ]
        }
      ]
    },
    {
      "cell_type": "code",
      "source": [
        "import matplotlib.pyplot as plt\n",
        "\n",
        "# Performans metriklerini saklayacak listeler oluştur\n",
        "metrics = ['Accuracy', 'Precision', 'Recall', 'F1 Score']\n",
        "scores = [accuracy, precision, recall, f1]\n",
        "\n",
        "# Sonuçları çiz\n",
        "plt.figure(figsize=(8, 6))\n",
        "plt.bar(metrics, scores, color=['blue', 'green', 'orange', 'red'])\n",
        "plt.title('Model Performansı')\n",
        "plt.xlabel('Performans Metrikleri')\n",
        "plt.ylabel('Skorlar')\n",
        "plt.ylim(0, 1)  # Y ekseni sınırlarını ayarla\n",
        "plt.show()"
      ],
      "metadata": {
        "colab": {
          "base_uri": "https://localhost:8080/",
          "height": 564
        },
        "id": "aPAXULG7aG3v",
        "outputId": "2bbe4b15-30a7-49e5-bbbb-ceeaa6811f2b"
      },
      "execution_count": null,
      "outputs": [
        {
          "output_type": "display_data",
          "data": {
            "text/plain": [
              "<Figure size 800x600 with 1 Axes>"
            ],
            "image/png": "[encoded data removed]"
          },
          "metadata": {}
        }
      ]
    },
    {
      "cell_type": "code",
      "source": [
        "from sklearn.metrics import confusion_matrix\n",
        "import seaborn as sns\n",
        "\n",
        "# Confusion matrix'i oluştur\n",
        "conf_matrix = confusion_matrix(y_test, y_pred)\n",
        "\n",
        "# Heatmap ile confusion matrix'i görselleştir\n",
        "plt.figure(figsize=(8, 6))\n",
        "sns.heatmap(conf_matrix, annot=True, cmap='Blues', fmt='g')\n",
        "plt.title('Confusion Matrix')\n",
        "plt.xlabel('Predicted')\n",
        "plt.ylabel('True')\n",
        "plt.show()"
      ],
      "metadata": {
        "colab": {
          "base_uri": "https://localhost:8080/",
          "height": 564
        },
        "id": "G1X5yKnQaKfK",
        "outputId": "57abbbb3-e0ef-4ff5-9ed4-ad0af3c5bf12"
      },
      "execution_count": null,
      "outputs": [
        {
          "output_type": "display_data",
          "data": {
            "text/plain": [
              "<Figure size 800x600 with 2 Axes>"
            ],
            "image/png": "[encoded data removed]"
          },
          "metadata": {}
        }
      ]
    }
  ]
}